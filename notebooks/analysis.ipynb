{
 "cells": [
  {
   "cell_type": "markdown",
   "id": "b713f81e-c754-4e31-b12b-00166e3ae67a",
   "metadata": {},
   "source": [
    "# Analysis"
   ]
  },
  {
   "cell_type": "code",
   "execution_count": 1,
   "id": "20adc7a9-39fc-451e-9c23-097213d14988",
   "metadata": {},
   "outputs": [],
   "source": [
    "from pathlib import Path\n",
    "import warnings\n",
    "\n",
    "import cmocean as cm\n",
    "import intake\n",
    "import matplotlib.pyplot as plt\n",
    "import xarray as xr\n",
    "\n",
    "from fluxerror import solubility as sol\n",
    "from fluxerror import gas_transfer_velocity as kw\n",
    "\n",
    "from plotting import (\n",
    "    create_grid,\n",
    "    add_coastline,\n",
    "    add_continents,\n",
    "    add_colorbar,\n",
    "    add_title,\n",
    "    plot_data\n",
    ")"
   ]
  },
  {
   "cell_type": "markdown",
   "id": "108c4cae-0d2c-4ca2-a66a-3ad489024503",
   "metadata": {},
   "source": [
    "# Analysis"
   ]
  },
  {
   "cell_type": "code",
   "execution_count": null,
   "id": "0d19db99-7e67-460a-a94a-7113343a7504",
   "metadata": {},
   "outputs": [],
   "source": [
    "ds_sst = xr.open_dataset(\"/home/ljg48/project/data/oae-uncertainty-data/oisst-1x1-1993-2022.nc\")\n",
    "ds_sss = xr.open_dataset(\"/home/ljg48/project/data/oae-uncertainty-data/en4-1x1-1993-2022.nc\")\n",
    "ds_wind = xr.open_dataset(\"/home/ljg48/project/data/oae-uncertainty-data/wind-1x1-1993-2022.nc\")"
   ]
  },
  {
   "cell_type": "code",
   "execution_count": 10,
   "id": "0c638cd2-b4ea-4765-9e60-e08f5acee8d7",
   "metadata": {},
   "outputs": [],
   "source": [
    "temp_C = ds_sst['sst']\n",
    "S = ds_sss['salinity']\n",
    "\n",
    "delta_temp_C = ds_sst['err']\n",
    "delta_S = ds_sss['salinity_uncertainty']\n",
    "\n",
    "input_kwargs = dict(\n",
    "    temp_C = ds_sst['sst'],\n",
    "    S = ds_sss['salinity'],\n",
    "    delta_T = ds_sst['err'],\n",
    "    delta_S = ds_sss['salinity_uncertainty'],\n",
    "    u_mean = ds_wind['ws_mean'].mean(\"product\"),\n",
    "    u_std = ds_wind['ws_std'].mean(\"product\"),\n",
    "    delta_umean = ds_wind['ws_mean'].std(\"product\"),\n",
    "    delta_ustd = ds_wind['ws_std'].std(\"product\")\n",
    ")"
   ]
  },
  {
   "cell_type": "code",
   "execution_count": null,
   "id": "b09ae772-93c1-461a-96fe-2f9a5f6fb0d7",
   "metadata": {},
   "outputs": [],
   "source": [
    "frac_sol_sss = sol.weiss1974.frac.ko_wrt_salt(**input_kwargs).to_dataset(name=\"frac_sol_sss\")\n",
    "frac_sol_sst = sol.weiss1974.frac.ko_wrt_temp(**input_kwargs).to_dataset(name=\"frac_sol_sst\")\n",
    "frac_kw_umean = kw.wanninkhof2014.frac.kw_umean(**input_kwargs).to_dataset(name=\"frac_kw_umean\")\n",
    "frac_kw_ustd = kw.wanninkhof2014.frac.kw_ustd(**input_kwargs).to_dataset(name=\"frac_kw_ustd\")\n",
    "frac_kw_sc = kw.wanninkhof2014.frac.kw_sc(**input_kwargs).to_dataset(name=\"frac_kw_sc\")"
   ]
  },
  {
   "cell_type": "code",
   "execution_count": 10,
   "id": "a168580e-3ddb-4c77-ba4f-1aa2e914e111",
   "metadata": {},
   "outputs": [],
   "source": [
    "frac_sol_squared = (frac_sol_sss**2) + (frac_sol_sst**2)"
   ]
  }
 ],
 "metadata": {
  "kernelspec": {
   "display_name": "Python 3 (ipykernel)",
   "language": "python",
   "name": "python3"
  },
  "language_info": {
   "codemirror_mode": {
    "name": "ipython",
    "version": 3
   },
   "file_extension": ".py",
   "mimetype": "text/x-python",
   "name": "python",
   "nbconvert_exporter": "python",
   "pygments_lexer": "ipython3",
   "version": "3.11.7"
  }
 },
 "nbformat": 4,
 "nbformat_minor": 5
}
