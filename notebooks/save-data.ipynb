{
 "cells": [
  {
   "cell_type": "markdown",
   "id": "fe07ed13-2381-4f8f-afbe-01035512a501",
   "metadata": {},
   "source": [
    "# save merged data\n",
    "this should be a standalone file, not a notebook"
   ]
  },
  {
   "cell_type": "code",
   "execution_count": 2,
   "id": "ad45ad27-8711-455f-8bd5-2d5ba76b2486",
   "metadata": {},
   "outputs": [],
   "source": [
    "from pathlib import Path\n",
    "import warnings\n",
    "\n",
    "import intake\n",
    "import xarray as xr\n",
    "\n",
    "# Suppress FutureWarning from xarray\n",
    "# To access a mapping from dimension names to lengths, please use `Dataset.sizes`\n",
    "warnings.filterwarnings(\"ignore\", category=FutureWarning, module=\"intake_xarray\")\n",
    "\n",
    "# output path\n",
    "output_path = Path(\"/home/ljg48/project/data/oae-uncertainty-data/\")"
   ]
  },
  {
   "cell_type": "code",
   "execution_count": 3,
   "id": "5e66657a-9711-4f6c-b3be-44dee2ddcb07",
   "metadata": {},
   "outputs": [],
   "source": [
    "# Load the master catalog of raw data\n",
    "# data is for each year\n",
    "cat = intake.open_catalog(\"../data/intake/master.yaml\")"
   ]
  },
  {
   "cell_type": "code",
   "execution_count": null,
   "id": "1607b397-8e0f-4a06-ba08-b1086d40a6bc",
   "metadata": {},
   "outputs": [],
   "source": [
    "# Save OISST\n",
    "output_file = output_path / \"oisst-1x1-1993-2022.nc\"\n",
    "if not output_file.exists():\n",
    "    df = xr.concat([cat.sst.OISST(year=year).read() for year in range(1993, 2023)], dim=\"time\")\n",
    "    df.to_netcdf(output_file)"
   ]
  },
  {
   "cell_type": "code",
   "execution_count": 9,
   "id": "75f8868d-8e6d-4666-be45-c29365576203",
   "metadata": {},
   "outputs": [],
   "source": [
    "# Save EN4\n",
    "output_file = output_path / \"en4-1x1-1993-2022.nc\"\n",
    "if not output_file.exists():\n",
    "    df = xr.concat([cat.sss.EN4(year=year).read() for year in range(1993, 2023)], dim=\"time\")\n",
    "    df.to_netcdf(output_file)"
   ]
  },
  {
   "cell_type": "code",
   "execution_count": 10,
   "id": "f2cd3714-c1c1-4987-9b1b-6da4f49d8d93",
   "metadata": {},
   "outputs": [],
   "source": [
    "# Save ccmp\n",
    "output_file = output_path / \"ccmp-1x1-1993-2022.nc\"\n",
    "if not output_file.exists():\n",
    "    df = xr.concat([cat.wind.CCMP(year=year).read() for year in range(1993, 2023)], dim=\"time\")\n",
    "    df.to_netcdf(output_file)"
   ]
  },
  {
   "cell_type": "code",
   "execution_count": 11,
   "id": "87ea187c-5787-4fd5-9155-5b0da7414892",
   "metadata": {},
   "outputs": [],
   "source": [
    "# Save era5\n",
    "output_file = output_path / \"era5-wind-1x1-1993-2022.nc\"\n",
    "if not output_file.exists():\n",
    "    df = xr.concat([cat.wind.ERA5(year=year).read() for year in range(1993, 2023)], dim=\"time\")\n",
    "    df.to_netcdf(output_file)"
   ]
  },
  {
   "cell_type": "code",
   "execution_count": 12,
   "id": "6951f8b1-509d-401b-a3f2-0ff40ed5e71e",
   "metadata": {},
   "outputs": [],
   "source": [
    "# Save jra3q\n",
    "output_file = output_path / \"jra3q-wind-1x1-1993-2022.nc\"\n",
    "if not output_file.exists():\n",
    "    df = xr.concat([cat.wind.JRA3Q(year=year).read() for year in range(1993, 2023)], dim=\"time\")\n",
    "    df.to_netcdf(output_file)"
   ]
  },
  {
   "cell_type": "code",
   "execution_count": 13,
   "id": "eb459f13-3c9e-4801-bb65-5317a555e321",
   "metadata": {},
   "outputs": [],
   "source": [
    "# Save jra3q\n",
    "output_file = output_path / \"era5-slp-1x1-1993-2022.nc\"\n",
    "if not output_file.exists():\n",
    "    df = xr.concat([cat.slp.ERA5(year=year).read() for year in range(1993, 2023)], dim=\"time\")\n",
    "    df.to_netcdf(output_file)"
   ]
  },
  {
   "cell_type": "code",
   "execution_count": null,
   "id": "b2a2b043-2b56-4a48-9adc-47efc685f176",
   "metadata": {},
   "outputs": [],
   "source": []
  }
 ],
 "metadata": {
  "kernelspec": {
   "display_name": "Python 3 (ipykernel)",
   "language": "python",
   "name": "python3"
  },
  "language_info": {
   "codemirror_mode": {
    "name": "ipython",
    "version": 3
   },
   "file_extension": ".py",
   "mimetype": "text/x-python",
   "name": "python",
   "nbconvert_exporter": "python",
   "pygments_lexer": "ipython3",
   "version": "3.11.7"
  }
 },
 "nbformat": 4,
 "nbformat_minor": 5
}
